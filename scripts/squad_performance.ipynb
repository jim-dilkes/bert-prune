{
 "cells": [
  {
   "cell_type": "code",
   "execution_count": 1,
   "metadata": {},
   "outputs": [],
   "source": [
    "import pandas as pd\n",
    "import json"
   ]
  },
  {
   "cell_type": "code",
   "execution_count": 2,
   "metadata": {},
   "outputs": [],
   "source": [
    "with open('../data/squad_data/dev-v2.0.json', 'r') as squad_file:\n",
    "    squad_dev = json.load(squad_file)"
   ]
  },
  {
   "cell_type": "code",
   "execution_count": 3,
   "metadata": {},
   "outputs": [],
   "source": [
    "all_answers = []\n",
    "for text in squad_dev['data']:\n",
    "    for para in text['paragraphs']:\n",
    "        all_answers.append(pd.DataFrame.from_dict(para['qas'], orient='columns'))\n",
    "answers_df = pd.concat(all_answers)"
   ]
  },
  {
   "cell_type": "code",
   "execution_count": 4,
   "metadata": {},
   "outputs": [],
   "source": [
    "all_answers = []\n",
    "for answers in list(answers_df['answers']):\n",
    "    this_answers = []\n",
    "    for a in answers:\n",
    "        this_answers.append(a['text'])\n",
    "    all_answers.append(this_answers)\n",
    "answers_df['answers_lists'] = all_answers\n",
    "answers_df = answers_df.set_index('id')\n",
    "answers_df['is_impossible'] = answers_df['is_impossible'].astype(bool)"
   ]
  },
  {
   "cell_type": "code",
   "execution_count": 14,
   "metadata": {},
   "outputs": [],
   "source": [
    "with open('../models/bert-prune-40-squad/predictions.json', 'r') as preds_file:\n",
    "    predictions_json = json.load(preds_file)\n",
    "    \n",
    "predictions_df = pd.DataFrame.from_dict(predictions_json, orient='index')\n",
    "ans_pred_df = answers_df.join(predictions_df, how='left')"
   ]
  },
  {
   "cell_type": "code",
   "execution_count": 16,
   "metadata": {},
   "outputs": [
    {
     "name": "stderr",
     "output_type": "stream",
     "text": [
      "/tmp/ipykernel_125067/2031579089.py:4: SettingWithCopyWarning: \n",
      "A value is trying to be set on a copy of a slice from a DataFrame.\n",
      "Try using .loc[row_indexer,col_indexer] = value instead\n",
      "\n",
      "See the caveats in the documentation: https://pandas.pydata.org/pandas-docs/stable/user_guide/indexing.html#returning-a-view-versus-a-copy\n",
      "  possible_answers_df['correct'] = possible_answers_df.apply(lambda x: x[0] in x.answers_lists, axis=1)\n"
     ]
    },
    {
     "data": {
      "text/plain": [
       "0.599527665317139"
      ]
     },
     "execution_count": 16,
     "metadata": {},
     "output_type": "execute_result"
    }
   ],
   "source": [
    "# all entries with is_impossible = False\n",
    "possible_answers_df = ans_pred_df[~ans_pred_df['is_impossible']]\n",
    "# Check if the prediction is in the list of possible answers\n",
    "possible_answers_df['correct'] = possible_answers_df.apply(lambda x: x[0] in x.answers_lists, axis=1)\n",
    "\n",
    "results = possible_answers_df.correct.value_counts()\n",
    "results[0]/(results[0]+results[1])"
   ]
  },
  {
   "cell_type": "code",
   "execution_count": 155,
   "metadata": {},
   "outputs": [],
   "source": [
    "ans_pred_df['correct'] = ans_pred_df.apply(lambda x: x[0] in x.answers_lists, axis=1)\n",
    "# Elementwise logical AND\n",
    "ans_pred_df['possible_correct'] = ans_pred_df['is_impossible'].astype(bool) & (ans_pred_df[0] == '').astype(bool)"
   ]
  },
  {
   "cell_type": "code",
   "execution_count": 158,
   "metadata": {},
   "outputs": [],
   "source": [
    "ans_pred_df['all_correct'] = ans_pred_df['correct'] | ans_pred_df['possible_correct']"
   ]
  },
  {
   "cell_type": "code",
   "execution_count": 160,
   "metadata": {},
   "outputs": [],
   "source": [
    "all_results = ans_pred_df['all_correct'].value_counts()"
   ]
  },
  {
   "cell_type": "code",
   "execution_count": 161,
   "metadata": {},
   "outputs": [
    {
     "data": {
      "text/plain": [
       "0.6211572475364272"
      ]
     },
     "execution_count": 161,
     "metadata": {},
     "output_type": "execute_result"
    }
   ],
   "source": [
    "all_results[0]/(all_results[0]+all_results[1])"
   ]
  }
 ],
 "metadata": {
  "kernelspec": {
   "display_name": "jupyter_env",
   "language": "python",
   "name": "python3"
  },
  "language_info": {
   "codemirror_mode": {
    "name": "ipython",
    "version": 3
   },
   "file_extension": ".py",
   "mimetype": "text/x-python",
   "name": "python",
   "nbconvert_exporter": "python",
   "pygments_lexer": "ipython3",
   "version": "3.10.9"
  },
  "orig_nbformat": 4,
  "vscode": {
   "interpreter": {
    "hash": "1ffc82101c5eff764050d2685372a31bdf18b27fd6181f429b67cb2396dafb7f"
   }
  }
 },
 "nbformat": 4,
 "nbformat_minor": 2
}
